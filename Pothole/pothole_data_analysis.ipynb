{
 "cells": [
  {
   "cell_type": "markdown",
   "metadata": {},
   "source": [
    "# Pothole data analysis in Python\n",
    "## Contents: All about json - Loading, Traversing, Manipulating;                                             Visualizing on Google Maps "
   ]
  },
  {
   "cell_type": "markdown",
   "metadata": {},
   "source": [
    "### installing libraries"
   ]
  },
  {
   "cell_type": "code",
   "execution_count": 25,
   "metadata": {},
   "outputs": [
    {
     "name": "stdout",
     "output_type": "stream",
     "text": [
      "Collecting gmplot\n",
      "  Downloading gmplot-1.4.1-py3-none-any.whl (164 kB)\n",
      "Requirement already satisfied: requests in c:\\users\\prateek\\anaconda3\\lib\\site-packages (from gmplot) (2.22.0)\n",
      "Requirement already satisfied: idna<2.9,>=2.5 in c:\\users\\prateek\\anaconda3\\lib\\site-packages (from requests->gmplot) (2.8)\n",
      "Requirement already satisfied: chardet<3.1.0,>=3.0.2 in c:\\users\\prateek\\anaconda3\\lib\\site-packages (from requests->gmplot) (3.0.4)\n",
      "Requirement already satisfied: urllib3!=1.25.0,!=1.25.1,<1.26,>=1.21.1 in c:\\users\\prateek\\anaconda3\\lib\\site-packages (from requests->gmplot) (1.25.8)\n",
      "Requirement already satisfied: certifi>=2017.4.17 in c:\\users\\prateek\\anaconda3\\lib\\site-packages (from requests->gmplot) (2019.11.28)\n",
      "Installing collected packages: gmplot\n",
      "Successfully installed gmplot-1.4.1\n"
     ]
    }
   ],
   "source": [
    "! pip install gmplot"
   ]
  },
  {
   "cell_type": "markdown",
   "metadata": {},
   "source": [
    "### import libraries"
   ]
  },
  {
   "cell_type": "code",
   "execution_count": 26,
   "metadata": {},
   "outputs": [],
   "source": [
    "import json # for json data"
   ]
  },
  {
   "cell_type": "markdown",
   "metadata": {},
   "source": [
    "### loading json "
   ]
  },
  {
   "cell_type": "code",
   "execution_count": 27,
   "metadata": {},
   "outputs": [],
   "source": [
    "data = json.load(open('potholes_iisc.json'))"
   ]
  },
  {
   "cell_type": "code",
   "execution_count": 28,
   "metadata": {
    "scrolled": true
   },
   "outputs": [
    {
     "data": {
      "text/plain": [
       "{'sarweshgeek@gmail,com': {'-L6V9Cul3fm1uwwHZZuS': '{\"latitude\":13.0167389,\"longitude\":77.5639061,\"timeStamp\":\"2018-03-01 11:33:47\",\"type\":\"pot\"}',\n",
       "  '-L6V9FW3pB9BLShSd3kS': '{\"latitude\":13.0169535,\"longitude\":77.5635853,\"timeStamp\":\"2018-03-01 11:33:57\",\"type\":\"pot\"}',\n",
       "  '-L6V9JvgVyPQnwmO5_Rc': '{\"latitude\":13.0170774,\"longitude\":77.5628625,\"timeStamp\":\"2018-03-01 11:34:15\",\"type\":\"pot\"}',\n",
       "  '-L6V9hbKPqZhj6Kdhnfz': '{\"latitude\":13.0184863,\"longitude\":77.5621296,\"timeStamp\":\"2018-03-01 11:35:56\",\"type\":\"pot\"}',\n",
       "  '-L6V9mOzETxmRiHX1wQI': '{\"latitude\":13.0189592,\"longitude\":77.5620181,\"timeStamp\":\"2018-03-01 11:36:16\",\"type\":\"pot\"}',\n",
       "  '-L6V9nDkluDVaPfxvQ0u': '{\"latitude\":13.0189592,\"longitude\":77.5620181,\"timeStamp\":\"2018-03-01 11:36:19\",\"type\":\"pot\"}',\n",
       "  '-L6V9njCp8b1OWj84Zj9': '{\"latitude\":13.0187927,\"longitude\":77.5621868,\"timeStamp\":\"2018-03-01 11:36:22\",\"type\":\"pot\"}',\n",
       "  '-L6V9z10U4jpwYg2hBS0': '{\"latitude\":13.0189854,\"longitude\":77.5636295,\"timeStamp\":\"2018-03-01 11:37:08\",\"type\":\"pot\"}',\n",
       "  '-L6VADDISAwi-vPqXdEb': '{\"latitude\":13.0197155,\"longitude\":77.5647209,\"timeStamp\":\"2018-03-01 11:38:10\",\"type\":\"pot\"}',\n",
       "  '-L6VAE8JkHUp-_-vCgro': '{\"latitude\":13.0197629,\"longitude\":77.5646093,\"timeStamp\":\"2018-03-01 11:38:14\",\"type\":\"pot\"}',\n",
       "  '-L6VAF8MCg9XP0le9k0q': '{\"latitude\":13.0198508,\"longitude\":77.5645468,\"timeStamp\":\"2018-03-01 11:38:18\",\"type\":\"pot\"}',\n",
       "  '-L6VAIfbfp0htHJBFDAc': '{\"latitude\":13.0199715,\"longitude\":77.5642218,\"timeStamp\":\"2018-03-01 11:38:32\",\"type\":\"pot\"}',\n",
       "  '-L6VAMmKwI7vI6cEALrU': '{\"latitude\":13.0201059,\"longitude\":77.5643094,\"timeStamp\":\"2018-03-01 11:38:49\",\"type\":\"pot\"}',\n",
       "  '-L6VAO763p_cktqb5USV': '{\"latitude\":13.0204419,\"longitude\":77.5638337,\"timeStamp\":\"2018-03-01 11:38:55\",\"type\":\"pot\"}',\n",
       "  '-L6VAPnM1-SJLRL4v4gE': '{\"latitude\":13.0208594,\"longitude\":77.5635139,\"timeStamp\":\"2018-03-01 11:39:02\",\"type\":\"pot\"}',\n",
       "  '-L6VAZsavtXB3kWeNbbV': '{\"latitude\":13.0228296,\"longitude\":77.5630266,\"timeStamp\":\"2018-03-01 11:39:43\",\"type\":\"pot\"}',\n",
       "  '-L6VAjBg4UtvkgzjzzsZ': '{\"latitude\":13.0249822,\"longitude\":77.5625728,\"timeStamp\":\"2018-03-01 11:40:25\",\"type\":\"pot\"}',\n",
       "  '-L6VApTJgwYh45H8HpRc': '{\"latitude\":13.0261212,\"longitude\":77.5619426,\"timeStamp\":\"2018-03-01 11:40:51\",\"type\":\"pot\"}',\n",
       "  '-L6VB1kSfUqGdXwNAysB': '{\"latitude\":13.0287452,\"longitude\":77.5628885,\"timeStamp\":\"2018-03-01 11:41:45\",\"type\":\"pot\"}',\n",
       "  '-L6VB5ZXBkFm6qOSr6Lg': '{\"latitude\":13.0287185,\"longitude\":77.5639517,\"timeStamp\":\"2018-03-01 11:42:01\",\"type\":\"pot\"}',\n",
       "  '-L6VB66NllcsDytb4gtQ': '{\"latitude\":13.0287185,\"longitude\":77.5639517,\"timeStamp\":\"2018-03-01 11:42:03\",\"type\":\"pot\"}',\n",
       "  '-L6VBFe6UOO8mt94-V7I': '{\"latitude\":13.0285564,\"longitude\":77.565833,\"timeStamp\":\"2018-03-01 11:42:42\",\"type\":\"pot\"}',\n",
       "  '-L6VBLn6TAlWiPqlRrql': '{\"latitude\":13.0280161,\"longitude\":77.5674002,\"timeStamp\":\"2018-03-01 11:43:07\",\"type\":\"pot\"}',\n",
       "  '-L6VBzYKHo17RCv5kUsH': '{\"latitude\":13.0252688,\"longitude\":77.5688312,\"timeStamp\":\"2018-03-01 11:45:54\",\"type\":\"pot\"}',\n",
       "  '-L6VC0q57cG4jqyLrFo6': '{\"latitude\":13.0250472,\"longitude\":77.5681953,\"timeStamp\":\"2018-03-01 11:46:04\",\"type\":\"pot\"}',\n",
       "  '-L6VC22DMQMzbi-9uFxY': '{\"latitude\":13.0250472,\"longitude\":77.5681953,\"timeStamp\":\"2018-03-01 11:46:09\",\"type\":\"pot\"}',\n",
       "  '-L6VC923ltUrtJ9ZmMF-': '{\"latitude\":13.0242741,\"longitude\":77.5667851,\"timeStamp\":\"2018-03-01 11:46:37\",\"type\":\"pot\"}',\n",
       "  '-L6VCCJZl80_oCxQnGre': '{\"latitude\":13.0234586,\"longitude\":77.566793,\"timeStamp\":\"2018-03-01 11:46:51\",\"type\":\"pot\"}',\n",
       "  '-L6VCDzSZAjbqdbgqovB': '{\"latitude\":13.0230122,\"longitude\":77.5667335,\"timeStamp\":\"2018-03-01 11:46:57\",\"type\":\"pot\"}',\n",
       "  '-L6VCG1Md_POmw606FB8': '{\"latitude\":13.0227328,\"longitude\":77.5667573,\"timeStamp\":\"2018-03-01 11:47:06\",\"type\":\"pot\"}',\n",
       "  '-L6VDCaH8ER5xSOzDaI-': '{\"latitude\":13.0185238,\"longitude\":77.5698145,\"timeStamp\":\"2018-03-01 11:51:14\",\"type\":\"pot\"}',\n",
       "  '-L6VDEMDqnIe1d5hA5E-': '{\"latitude\":13.0181436,\"longitude\":77.5698483,\"timeStamp\":\"2018-03-01 11:51:21\",\"type\":\"pot\"}',\n",
       "  '-L6VDF2BuK3nQQ-YeP2A': '{\"latitude\":13.0181436,\"longitude\":77.5698483,\"timeStamp\":\"2018-03-01 11:51:24\",\"type\":\"pot\"}',\n",
       "  '-L6VDG8PltG6ceUpbzU1': '{\"latitude\":13.0182042,\"longitude\":77.5700338,\"timeStamp\":\"2018-03-01 11:51:28\",\"type\":\"pot\"}',\n",
       "  '-L6VDGaEQucmNzbI0jxK': '{\"latitude\":13.0178549,\"longitude\":77.5699526,\"timeStamp\":\"2018-03-01 11:51:30\",\"type\":\"pot\"}',\n",
       "  '-L6VDHS5ieyPFTaZKQLo': '{\"latitude\":13.0178549,\"longitude\":77.5699526,\"timeStamp\":\"2018-03-01 11:51:34\",\"type\":\"pot\"}',\n",
       "  '-L6VDJ6gjBCVtmS-eUD9': '{\"latitude\":13.0176892,\"longitude\":77.569775,\"timeStamp\":\"2018-03-01 11:51:41\",\"type\":\"pot\"}',\n",
       "  '-L6VDJuSpkAZnMJ_I6x0': '{\"latitude\":13.0175377,\"longitude\":77.5696524,\"timeStamp\":\"2018-03-01 11:51:44\",\"type\":\"pot\"}',\n",
       "  '-L6VDKe4E6fu7awQijjk': '{\"latitude\":13.0175377,\"longitude\":77.5696524,\"timeStamp\":\"2018-03-01 11:51:47\",\"type\":\"pot\"}',\n",
       "  '-L6VDL4Sx53oBsYzolMo': '{\"latitude\":13.0175377,\"longitude\":77.5696524,\"timeStamp\":\"2018-03-01 11:51:49\",\"type\":\"pot\"}',\n",
       "  '-L6VDcrvPtivUt9t-OLv': '{\"latitude\":13.0151279,\"longitude\":77.5718664,\"timeStamp\":\"2018-03-01 11:53:06\",\"type\":\"pot\"}',\n",
       "  '-L6VDpVBZsxaaFky6zVB': '{\"latitude\":13.0146513,\"longitude\":77.5695278,\"timeStamp\":\"2018-03-01 11:53:57\",\"type\":\"pot\"}',\n",
       "  '-L6VDqCNCoKmtS40ZXsX': '{\"latitude\":13.0146513,\"longitude\":77.5695278,\"timeStamp\":\"2018-03-01 11:54:00\",\"type\":\"pot\"}',\n",
       "  '-L6VDrtpZw53yf64N3YH': '{\"latitude\":13.0146272,\"longitude\":77.5690129,\"timeStamp\":\"2018-03-01 11:54:07\",\"type\":\"pot\"}',\n",
       "  '-L6VDugUOX2tlY41-_ps': '{\"latitude\":13.0146117,\"longitude\":77.5682856,\"timeStamp\":\"2018-03-01 11:54:19\",\"type\":\"pot\"}',\n",
       "  '-L6VDvLSpy7wbrlLTEyM': '{\"latitude\":13.0146117,\"longitude\":77.5682856,\"timeStamp\":\"2018-03-01 11:54:21\",\"type\":\"pot\"}',\n",
       "  '-L6VE-9xvThwJH1Pdboz': '{\"latitude\":13.0153462,\"longitude\":77.5677131,\"timeStamp\":\"2018-03-01 11:54:41\",\"type\":\"pot\"}',\n",
       "  '-L6VEsdDJhy22gWjme7u': '{\"latitude\":13.0167517,\"longitude\":77.5652343,\"timeStamp\":\"2018-03-01 11:58:32\",\"type\":\"pot\"}',\n",
       "  '-L6VEupyr4d6g6H_Q-Cd': '{\"latitude\":13.0172384,\"longitude\":77.5648709,\"timeStamp\":\"2018-03-01 11:58:41\",\"type\":\"pot\"}',\n",
       "  '-L6VEwZmp0PxP4vHf76l': '{\"latitude\":13.0176736,\"longitude\":77.5648927,\"timeStamp\":\"2018-03-01 11:58:48\",\"type\":\"pot\"}',\n",
       "  '-L6VEy0tKJPmwpD61LD3': '{\"latitude\":13.0175254,\"longitude\":77.5649063,\"timeStamp\":\"2018-03-01 11:58:54\",\"type\":\"pot\"}',\n",
       "  '-L6VF-rAtwkNog592px_': '{\"latitude\":13.0176958,\"longitude\":77.564726,\"timeStamp\":\"2018-03-01 11:59:06\",\"type\":\"pot\"}',\n",
       "  '-L6VF0RI_LdukpwNfzG9': '{\"latitude\":13.0176958,\"longitude\":77.564726,\"timeStamp\":\"2018-03-01 11:59:08\",\"type\":\"pot\"}',\n",
       "  '-L6VF3H8VSKt0FQXrrOE': '{\"latitude\":13.01796,\"longitude\":77.5650096,\"timeStamp\":\"2018-03-01 11:59:20\",\"type\":\"pot\"}',\n",
       "  '-L6VF7WCHATcY6agpjB-': '{\"latitude\":13.0176756,\"longitude\":77.5658156,\"timeStamp\":\"2018-03-01 11:59:37\",\"type\":\"pot\"}',\n",
       "  '-L6VFZk-K4K365asyB8_': '{\"latitude\":13.0223216,\"longitude\":77.5666504,\"timeStamp\":\"2018-03-01 12:01:33\",\"type\":\"pot\"}',\n",
       "  '-L6VFsk5_PbB9x3BSPDW': '{\"latitude\":13.0246664,\"longitude\":77.5656116,\"timeStamp\":\"2018-03-01 12:02:55\",\"type\":\"pot\"}',\n",
       "  '-L6VGHxbeSJBeWwR73O2': '{\"latitude\":13.0244032,\"longitude\":77.5660514,\"timeStamp\":\"2018-03-01 12:04:42\",\"type\":\"pot\"}',\n",
       "  '-L6VGXwLHhYxyB_HXPCS': '{\"latitude\":13.0234137,\"longitude\":77.5677205,\"timeStamp\":\"2018-03-01 12:05:48\",\"type\":\"pot\"}',\n",
       "  '-L6VGYtmtO1VwHUrT8EO': '{\"latitude\":13.0234137,\"longitude\":77.5677205,\"timeStamp\":\"2018-03-01 12:05:52\",\"type\":\"pot\"}',\n",
       "  '-L6VHY7HGtPt3_SAz3az': '{\"latitude\":13.0163609,\"longitude\":77.5688895,\"timeStamp\":\"2018-03-01 12:10:11\",\"type\":\"pot\"}',\n",
       "  '-L6VH_239LDCnblER006': '{\"latitude\":13.0162502,\"longitude\":77.5688793,\"timeStamp\":\"2018-03-01 12:10:18\",\"type\":\"pot\"}',\n",
       "  '-L6VH_vEdIyEJAusUrtd': '{\"latitude\":13.0158554,\"longitude\":77.5688678,\"timeStamp\":\"2018-03-01 12:10:22\",\"type\":\"pot\"}',\n",
       "  '-L6VIBiRqesF_X7emJvx': '{\"latitude\":13.0143629,\"longitude\":77.570628,\"timeStamp\":\"2018-03-01 12:13:01\",\"type\":\"pot\"}',\n",
       "  '-L6VIQ3MrTd1CzP5vhZx': '{\"latitude\":13.0134793,\"longitude\":77.5685091,\"timeStamp\":\"2018-03-01 12:14:00\",\"type\":\"pot\"}',\n",
       "  '-L6VIU7G0T7SRvmjiM4s': '{\"latitude\":13.0128868,\"longitude\":77.5688077,\"timeStamp\":\"2018-03-01 12:14:16\",\"type\":\"pot\"}',\n",
       "  '-L6VIWTMjCdfMx_OFbqH': '{\"latitude\":13.0125561,\"longitude\":77.5690228,\"timeStamp\":\"2018-03-01 12:14:26\",\"type\":\"pot\"}',\n",
       "  '-L6VIWoWGonuRjmvYa-s': '{\"latitude\":13.0125561,\"longitude\":77.5690228,\"timeStamp\":\"2018-03-01 12:14:27\",\"type\":\"pot\"}',\n",
       "  '-L6VIYxsJtf1U8N3rn9f': '{\"latitude\":13.0127638,\"longitude\":77.5689085,\"timeStamp\":\"2018-03-01 12:14:36\",\"type\":\"pot\"}'}}"
      ]
     },
     "execution_count": 28,
     "metadata": {},
     "output_type": "execute_result"
    }
   ],
   "source": [
    "data # view on standard json viewers"
   ]
  },
  {
   "cell_type": "code",
   "execution_count": null,
   "metadata": {},
   "outputs": [],
   "source": []
  },
  {
   "cell_type": "markdown",
   "metadata": {},
   "source": [
    "### accessing keys and values"
   ]
  },
  {
   "cell_type": "code",
   "execution_count": 29,
   "metadata": {},
   "outputs": [],
   "source": [
    "# keys\n",
    "keys = data.keys() "
   ]
  },
  {
   "cell_type": "code",
   "execution_count": 30,
   "metadata": {},
   "outputs": [
    {
     "data": {
      "text/plain": [
       "dict_keys(['sarweshgeek@gmail,com'])"
      ]
     },
     "execution_count": 30,
     "metadata": {},
     "output_type": "execute_result"
    }
   ],
   "source": [
    "keys"
   ]
  },
  {
   "cell_type": "code",
   "execution_count": 31,
   "metadata": {},
   "outputs": [],
   "source": [
    "# values\n",
    "values = data['sarweshgeek@gmail,com']"
   ]
  },
  {
   "cell_type": "code",
   "execution_count": 32,
   "metadata": {},
   "outputs": [
    {
     "data": {
      "text/plain": [
       "{'-L6V9Cul3fm1uwwHZZuS': '{\"latitude\":13.0167389,\"longitude\":77.5639061,\"timeStamp\":\"2018-03-01 11:33:47\",\"type\":\"pot\"}',\n",
       " '-L6V9FW3pB9BLShSd3kS': '{\"latitude\":13.0169535,\"longitude\":77.5635853,\"timeStamp\":\"2018-03-01 11:33:57\",\"type\":\"pot\"}',\n",
       " '-L6V9JvgVyPQnwmO5_Rc': '{\"latitude\":13.0170774,\"longitude\":77.5628625,\"timeStamp\":\"2018-03-01 11:34:15\",\"type\":\"pot\"}',\n",
       " '-L6V9hbKPqZhj6Kdhnfz': '{\"latitude\":13.0184863,\"longitude\":77.5621296,\"timeStamp\":\"2018-03-01 11:35:56\",\"type\":\"pot\"}',\n",
       " '-L6V9mOzETxmRiHX1wQI': '{\"latitude\":13.0189592,\"longitude\":77.5620181,\"timeStamp\":\"2018-03-01 11:36:16\",\"type\":\"pot\"}',\n",
       " '-L6V9nDkluDVaPfxvQ0u': '{\"latitude\":13.0189592,\"longitude\":77.5620181,\"timeStamp\":\"2018-03-01 11:36:19\",\"type\":\"pot\"}',\n",
       " '-L6V9njCp8b1OWj84Zj9': '{\"latitude\":13.0187927,\"longitude\":77.5621868,\"timeStamp\":\"2018-03-01 11:36:22\",\"type\":\"pot\"}',\n",
       " '-L6V9z10U4jpwYg2hBS0': '{\"latitude\":13.0189854,\"longitude\":77.5636295,\"timeStamp\":\"2018-03-01 11:37:08\",\"type\":\"pot\"}',\n",
       " '-L6VADDISAwi-vPqXdEb': '{\"latitude\":13.0197155,\"longitude\":77.5647209,\"timeStamp\":\"2018-03-01 11:38:10\",\"type\":\"pot\"}',\n",
       " '-L6VAE8JkHUp-_-vCgro': '{\"latitude\":13.0197629,\"longitude\":77.5646093,\"timeStamp\":\"2018-03-01 11:38:14\",\"type\":\"pot\"}',\n",
       " '-L6VAF8MCg9XP0le9k0q': '{\"latitude\":13.0198508,\"longitude\":77.5645468,\"timeStamp\":\"2018-03-01 11:38:18\",\"type\":\"pot\"}',\n",
       " '-L6VAIfbfp0htHJBFDAc': '{\"latitude\":13.0199715,\"longitude\":77.5642218,\"timeStamp\":\"2018-03-01 11:38:32\",\"type\":\"pot\"}',\n",
       " '-L6VAMmKwI7vI6cEALrU': '{\"latitude\":13.0201059,\"longitude\":77.5643094,\"timeStamp\":\"2018-03-01 11:38:49\",\"type\":\"pot\"}',\n",
       " '-L6VAO763p_cktqb5USV': '{\"latitude\":13.0204419,\"longitude\":77.5638337,\"timeStamp\":\"2018-03-01 11:38:55\",\"type\":\"pot\"}',\n",
       " '-L6VAPnM1-SJLRL4v4gE': '{\"latitude\":13.0208594,\"longitude\":77.5635139,\"timeStamp\":\"2018-03-01 11:39:02\",\"type\":\"pot\"}',\n",
       " '-L6VAZsavtXB3kWeNbbV': '{\"latitude\":13.0228296,\"longitude\":77.5630266,\"timeStamp\":\"2018-03-01 11:39:43\",\"type\":\"pot\"}',\n",
       " '-L6VAjBg4UtvkgzjzzsZ': '{\"latitude\":13.0249822,\"longitude\":77.5625728,\"timeStamp\":\"2018-03-01 11:40:25\",\"type\":\"pot\"}',\n",
       " '-L6VApTJgwYh45H8HpRc': '{\"latitude\":13.0261212,\"longitude\":77.5619426,\"timeStamp\":\"2018-03-01 11:40:51\",\"type\":\"pot\"}',\n",
       " '-L6VB1kSfUqGdXwNAysB': '{\"latitude\":13.0287452,\"longitude\":77.5628885,\"timeStamp\":\"2018-03-01 11:41:45\",\"type\":\"pot\"}',\n",
       " '-L6VB5ZXBkFm6qOSr6Lg': '{\"latitude\":13.0287185,\"longitude\":77.5639517,\"timeStamp\":\"2018-03-01 11:42:01\",\"type\":\"pot\"}',\n",
       " '-L6VB66NllcsDytb4gtQ': '{\"latitude\":13.0287185,\"longitude\":77.5639517,\"timeStamp\":\"2018-03-01 11:42:03\",\"type\":\"pot\"}',\n",
       " '-L6VBFe6UOO8mt94-V7I': '{\"latitude\":13.0285564,\"longitude\":77.565833,\"timeStamp\":\"2018-03-01 11:42:42\",\"type\":\"pot\"}',\n",
       " '-L6VBLn6TAlWiPqlRrql': '{\"latitude\":13.0280161,\"longitude\":77.5674002,\"timeStamp\":\"2018-03-01 11:43:07\",\"type\":\"pot\"}',\n",
       " '-L6VBzYKHo17RCv5kUsH': '{\"latitude\":13.0252688,\"longitude\":77.5688312,\"timeStamp\":\"2018-03-01 11:45:54\",\"type\":\"pot\"}',\n",
       " '-L6VC0q57cG4jqyLrFo6': '{\"latitude\":13.0250472,\"longitude\":77.5681953,\"timeStamp\":\"2018-03-01 11:46:04\",\"type\":\"pot\"}',\n",
       " '-L6VC22DMQMzbi-9uFxY': '{\"latitude\":13.0250472,\"longitude\":77.5681953,\"timeStamp\":\"2018-03-01 11:46:09\",\"type\":\"pot\"}',\n",
       " '-L6VC923ltUrtJ9ZmMF-': '{\"latitude\":13.0242741,\"longitude\":77.5667851,\"timeStamp\":\"2018-03-01 11:46:37\",\"type\":\"pot\"}',\n",
       " '-L6VCCJZl80_oCxQnGre': '{\"latitude\":13.0234586,\"longitude\":77.566793,\"timeStamp\":\"2018-03-01 11:46:51\",\"type\":\"pot\"}',\n",
       " '-L6VCDzSZAjbqdbgqovB': '{\"latitude\":13.0230122,\"longitude\":77.5667335,\"timeStamp\":\"2018-03-01 11:46:57\",\"type\":\"pot\"}',\n",
       " '-L6VCG1Md_POmw606FB8': '{\"latitude\":13.0227328,\"longitude\":77.5667573,\"timeStamp\":\"2018-03-01 11:47:06\",\"type\":\"pot\"}',\n",
       " '-L6VDCaH8ER5xSOzDaI-': '{\"latitude\":13.0185238,\"longitude\":77.5698145,\"timeStamp\":\"2018-03-01 11:51:14\",\"type\":\"pot\"}',\n",
       " '-L6VDEMDqnIe1d5hA5E-': '{\"latitude\":13.0181436,\"longitude\":77.5698483,\"timeStamp\":\"2018-03-01 11:51:21\",\"type\":\"pot\"}',\n",
       " '-L6VDF2BuK3nQQ-YeP2A': '{\"latitude\":13.0181436,\"longitude\":77.5698483,\"timeStamp\":\"2018-03-01 11:51:24\",\"type\":\"pot\"}',\n",
       " '-L6VDG8PltG6ceUpbzU1': '{\"latitude\":13.0182042,\"longitude\":77.5700338,\"timeStamp\":\"2018-03-01 11:51:28\",\"type\":\"pot\"}',\n",
       " '-L6VDGaEQucmNzbI0jxK': '{\"latitude\":13.0178549,\"longitude\":77.5699526,\"timeStamp\":\"2018-03-01 11:51:30\",\"type\":\"pot\"}',\n",
       " '-L6VDHS5ieyPFTaZKQLo': '{\"latitude\":13.0178549,\"longitude\":77.5699526,\"timeStamp\":\"2018-03-01 11:51:34\",\"type\":\"pot\"}',\n",
       " '-L6VDJ6gjBCVtmS-eUD9': '{\"latitude\":13.0176892,\"longitude\":77.569775,\"timeStamp\":\"2018-03-01 11:51:41\",\"type\":\"pot\"}',\n",
       " '-L6VDJuSpkAZnMJ_I6x0': '{\"latitude\":13.0175377,\"longitude\":77.5696524,\"timeStamp\":\"2018-03-01 11:51:44\",\"type\":\"pot\"}',\n",
       " '-L6VDKe4E6fu7awQijjk': '{\"latitude\":13.0175377,\"longitude\":77.5696524,\"timeStamp\":\"2018-03-01 11:51:47\",\"type\":\"pot\"}',\n",
       " '-L6VDL4Sx53oBsYzolMo': '{\"latitude\":13.0175377,\"longitude\":77.5696524,\"timeStamp\":\"2018-03-01 11:51:49\",\"type\":\"pot\"}',\n",
       " '-L6VDcrvPtivUt9t-OLv': '{\"latitude\":13.0151279,\"longitude\":77.5718664,\"timeStamp\":\"2018-03-01 11:53:06\",\"type\":\"pot\"}',\n",
       " '-L6VDpVBZsxaaFky6zVB': '{\"latitude\":13.0146513,\"longitude\":77.5695278,\"timeStamp\":\"2018-03-01 11:53:57\",\"type\":\"pot\"}',\n",
       " '-L6VDqCNCoKmtS40ZXsX': '{\"latitude\":13.0146513,\"longitude\":77.5695278,\"timeStamp\":\"2018-03-01 11:54:00\",\"type\":\"pot\"}',\n",
       " '-L6VDrtpZw53yf64N3YH': '{\"latitude\":13.0146272,\"longitude\":77.5690129,\"timeStamp\":\"2018-03-01 11:54:07\",\"type\":\"pot\"}',\n",
       " '-L6VDugUOX2tlY41-_ps': '{\"latitude\":13.0146117,\"longitude\":77.5682856,\"timeStamp\":\"2018-03-01 11:54:19\",\"type\":\"pot\"}',\n",
       " '-L6VDvLSpy7wbrlLTEyM': '{\"latitude\":13.0146117,\"longitude\":77.5682856,\"timeStamp\":\"2018-03-01 11:54:21\",\"type\":\"pot\"}',\n",
       " '-L6VE-9xvThwJH1Pdboz': '{\"latitude\":13.0153462,\"longitude\":77.5677131,\"timeStamp\":\"2018-03-01 11:54:41\",\"type\":\"pot\"}',\n",
       " '-L6VEsdDJhy22gWjme7u': '{\"latitude\":13.0167517,\"longitude\":77.5652343,\"timeStamp\":\"2018-03-01 11:58:32\",\"type\":\"pot\"}',\n",
       " '-L6VEupyr4d6g6H_Q-Cd': '{\"latitude\":13.0172384,\"longitude\":77.5648709,\"timeStamp\":\"2018-03-01 11:58:41\",\"type\":\"pot\"}',\n",
       " '-L6VEwZmp0PxP4vHf76l': '{\"latitude\":13.0176736,\"longitude\":77.5648927,\"timeStamp\":\"2018-03-01 11:58:48\",\"type\":\"pot\"}',\n",
       " '-L6VEy0tKJPmwpD61LD3': '{\"latitude\":13.0175254,\"longitude\":77.5649063,\"timeStamp\":\"2018-03-01 11:58:54\",\"type\":\"pot\"}',\n",
       " '-L6VF-rAtwkNog592px_': '{\"latitude\":13.0176958,\"longitude\":77.564726,\"timeStamp\":\"2018-03-01 11:59:06\",\"type\":\"pot\"}',\n",
       " '-L6VF0RI_LdukpwNfzG9': '{\"latitude\":13.0176958,\"longitude\":77.564726,\"timeStamp\":\"2018-03-01 11:59:08\",\"type\":\"pot\"}',\n",
       " '-L6VF3H8VSKt0FQXrrOE': '{\"latitude\":13.01796,\"longitude\":77.5650096,\"timeStamp\":\"2018-03-01 11:59:20\",\"type\":\"pot\"}',\n",
       " '-L6VF7WCHATcY6agpjB-': '{\"latitude\":13.0176756,\"longitude\":77.5658156,\"timeStamp\":\"2018-03-01 11:59:37\",\"type\":\"pot\"}',\n",
       " '-L6VFZk-K4K365asyB8_': '{\"latitude\":13.0223216,\"longitude\":77.5666504,\"timeStamp\":\"2018-03-01 12:01:33\",\"type\":\"pot\"}',\n",
       " '-L6VFsk5_PbB9x3BSPDW': '{\"latitude\":13.0246664,\"longitude\":77.5656116,\"timeStamp\":\"2018-03-01 12:02:55\",\"type\":\"pot\"}',\n",
       " '-L6VGHxbeSJBeWwR73O2': '{\"latitude\":13.0244032,\"longitude\":77.5660514,\"timeStamp\":\"2018-03-01 12:04:42\",\"type\":\"pot\"}',\n",
       " '-L6VGXwLHhYxyB_HXPCS': '{\"latitude\":13.0234137,\"longitude\":77.5677205,\"timeStamp\":\"2018-03-01 12:05:48\",\"type\":\"pot\"}',\n",
       " '-L6VGYtmtO1VwHUrT8EO': '{\"latitude\":13.0234137,\"longitude\":77.5677205,\"timeStamp\":\"2018-03-01 12:05:52\",\"type\":\"pot\"}',\n",
       " '-L6VHY7HGtPt3_SAz3az': '{\"latitude\":13.0163609,\"longitude\":77.5688895,\"timeStamp\":\"2018-03-01 12:10:11\",\"type\":\"pot\"}',\n",
       " '-L6VH_239LDCnblER006': '{\"latitude\":13.0162502,\"longitude\":77.5688793,\"timeStamp\":\"2018-03-01 12:10:18\",\"type\":\"pot\"}',\n",
       " '-L6VH_vEdIyEJAusUrtd': '{\"latitude\":13.0158554,\"longitude\":77.5688678,\"timeStamp\":\"2018-03-01 12:10:22\",\"type\":\"pot\"}',\n",
       " '-L6VIBiRqesF_X7emJvx': '{\"latitude\":13.0143629,\"longitude\":77.570628,\"timeStamp\":\"2018-03-01 12:13:01\",\"type\":\"pot\"}',\n",
       " '-L6VIQ3MrTd1CzP5vhZx': '{\"latitude\":13.0134793,\"longitude\":77.5685091,\"timeStamp\":\"2018-03-01 12:14:00\",\"type\":\"pot\"}',\n",
       " '-L6VIU7G0T7SRvmjiM4s': '{\"latitude\":13.0128868,\"longitude\":77.5688077,\"timeStamp\":\"2018-03-01 12:14:16\",\"type\":\"pot\"}',\n",
       " '-L6VIWTMjCdfMx_OFbqH': '{\"latitude\":13.0125561,\"longitude\":77.5690228,\"timeStamp\":\"2018-03-01 12:14:26\",\"type\":\"pot\"}',\n",
       " '-L6VIWoWGonuRjmvYa-s': '{\"latitude\":13.0125561,\"longitude\":77.5690228,\"timeStamp\":\"2018-03-01 12:14:27\",\"type\":\"pot\"}',\n",
       " '-L6VIYxsJtf1U8N3rn9f': '{\"latitude\":13.0127638,\"longitude\":77.5689085,\"timeStamp\":\"2018-03-01 12:14:36\",\"type\":\"pot\"}'}"
      ]
     },
     "execution_count": 32,
     "metadata": {},
     "output_type": "execute_result"
    }
   ],
   "source": [
    "values"
   ]
  },
  {
   "cell_type": "code",
   "execution_count": 33,
   "metadata": {
    "scrolled": true
   },
   "outputs": [],
   "source": [
    "# nested keys\n",
    "nested_keys = data['sarweshgeek@gmail,com'].keys()"
   ]
  },
  {
   "cell_type": "code",
   "execution_count": 34,
   "metadata": {
    "scrolled": true
   },
   "outputs": [
    {
     "data": {
      "text/plain": [
       "dict_keys(['-L6V9Cul3fm1uwwHZZuS', '-L6V9FW3pB9BLShSd3kS', '-L6V9JvgVyPQnwmO5_Rc', '-L6V9hbKPqZhj6Kdhnfz', '-L6V9mOzETxmRiHX1wQI', '-L6V9nDkluDVaPfxvQ0u', '-L6V9njCp8b1OWj84Zj9', '-L6V9z10U4jpwYg2hBS0', '-L6VADDISAwi-vPqXdEb', '-L6VAE8JkHUp-_-vCgro', '-L6VAF8MCg9XP0le9k0q', '-L6VAIfbfp0htHJBFDAc', '-L6VAMmKwI7vI6cEALrU', '-L6VAO763p_cktqb5USV', '-L6VAPnM1-SJLRL4v4gE', '-L6VAZsavtXB3kWeNbbV', '-L6VAjBg4UtvkgzjzzsZ', '-L6VApTJgwYh45H8HpRc', '-L6VB1kSfUqGdXwNAysB', '-L6VB5ZXBkFm6qOSr6Lg', '-L6VB66NllcsDytb4gtQ', '-L6VBFe6UOO8mt94-V7I', '-L6VBLn6TAlWiPqlRrql', '-L6VBzYKHo17RCv5kUsH', '-L6VC0q57cG4jqyLrFo6', '-L6VC22DMQMzbi-9uFxY', '-L6VC923ltUrtJ9ZmMF-', '-L6VCCJZl80_oCxQnGre', '-L6VCDzSZAjbqdbgqovB', '-L6VCG1Md_POmw606FB8', '-L6VDCaH8ER5xSOzDaI-', '-L6VDEMDqnIe1d5hA5E-', '-L6VDF2BuK3nQQ-YeP2A', '-L6VDG8PltG6ceUpbzU1', '-L6VDGaEQucmNzbI0jxK', '-L6VDHS5ieyPFTaZKQLo', '-L6VDJ6gjBCVtmS-eUD9', '-L6VDJuSpkAZnMJ_I6x0', '-L6VDKe4E6fu7awQijjk', '-L6VDL4Sx53oBsYzolMo', '-L6VDcrvPtivUt9t-OLv', '-L6VDpVBZsxaaFky6zVB', '-L6VDqCNCoKmtS40ZXsX', '-L6VDrtpZw53yf64N3YH', '-L6VDugUOX2tlY41-_ps', '-L6VDvLSpy7wbrlLTEyM', '-L6VE-9xvThwJH1Pdboz', '-L6VEsdDJhy22gWjme7u', '-L6VEupyr4d6g6H_Q-Cd', '-L6VEwZmp0PxP4vHf76l', '-L6VEy0tKJPmwpD61LD3', '-L6VF-rAtwkNog592px_', '-L6VF0RI_LdukpwNfzG9', '-L6VF3H8VSKt0FQXrrOE', '-L6VF7WCHATcY6agpjB-', '-L6VFZk-K4K365asyB8_', '-L6VFsk5_PbB9x3BSPDW', '-L6VGHxbeSJBeWwR73O2', '-L6VGXwLHhYxyB_HXPCS', '-L6VGYtmtO1VwHUrT8EO', '-L6VHY7HGtPt3_SAz3az', '-L6VH_239LDCnblER006', '-L6VH_vEdIyEJAusUrtd', '-L6VIBiRqesF_X7emJvx', '-L6VIQ3MrTd1CzP5vhZx', '-L6VIU7G0T7SRvmjiM4s', '-L6VIWTMjCdfMx_OFbqH', '-L6VIWoWGonuRjmvYa-s', '-L6VIYxsJtf1U8N3rn9f'])"
      ]
     },
     "execution_count": 34,
     "metadata": {},
     "output_type": "execute_result"
    }
   ],
   "source": [
    "nested_keys"
   ]
  },
  {
   "cell_type": "code",
   "execution_count": 35,
   "metadata": {},
   "outputs": [],
   "source": [
    "# nested values\n",
    "nested_values = data['sarweshgeek@gmail,com']['-L6VEy0tKJPmwpD61LD3']"
   ]
  },
  {
   "cell_type": "code",
   "execution_count": 36,
   "metadata": {},
   "outputs": [
    {
     "data": {
      "text/plain": [
       "'{\"latitude\":13.0175254,\"longitude\":77.5649063,\"timeStamp\":\"2018-03-01 11:58:54\",\"type\":\"pot\"}'"
      ]
     },
     "execution_count": 36,
     "metadata": {},
     "output_type": "execute_result"
    }
   ],
   "source": [
    "nested_values"
   ]
  },
  {
   "cell_type": "markdown",
   "metadata": {},
   "source": [
    "### converting json string to json\n"
   ]
  },
  {
   "cell_type": "code",
   "execution_count": 37,
   "metadata": {},
   "outputs": [],
   "source": [
    "#json_string = nested_values"
   ]
  },
  {
   "cell_type": "code",
   "execution_count": 38,
   "metadata": {},
   "outputs": [],
   "source": [
    "final_json = json.loads(nested_values)"
   ]
  },
  {
   "cell_type": "code",
   "execution_count": 39,
   "metadata": {},
   "outputs": [
    {
     "data": {
      "text/plain": [
       "{'latitude': 13.0175254,\n",
       " 'longitude': 77.5649063,\n",
       " 'timeStamp': '2018-03-01 11:58:54',\n",
       " 'type': 'pot'}"
      ]
     },
     "execution_count": 39,
     "metadata": {},
     "output_type": "execute_result"
    }
   ],
   "source": [
    "final_json"
   ]
  },
  {
   "cell_type": "code",
   "execution_count": 40,
   "metadata": {},
   "outputs": [
    {
     "data": {
      "text/plain": [
       "dict_keys(['latitude', 'longitude', 'timeStamp', 'type'])"
      ]
     },
     "execution_count": 40,
     "metadata": {},
     "output_type": "execute_result"
    }
   ],
   "source": [
    "final_json.keys()"
   ]
  },
  {
   "cell_type": "code",
   "execution_count": 41,
   "metadata": {},
   "outputs": [
    {
     "data": {
      "text/plain": [
       "13.0175254"
      ]
     },
     "execution_count": 41,
     "metadata": {},
     "output_type": "execute_result"
    }
   ],
   "source": [
    "final_json['latitude']"
   ]
  },
  {
   "cell_type": "markdown",
   "metadata": {},
   "source": [
    "### retrieving all data"
   ]
  },
  {
   "cell_type": "code",
   "execution_count": 42,
   "metadata": {
    "scrolled": true
   },
   "outputs": [
    {
     "name": "stdout",
     "output_type": "stream",
     "text": [
      "{\"latitude\":13.0167389,\"longitude\":77.5639061,\"timeStamp\":\"2018-03-01 11:33:47\",\"type\":\"pot\"}\n",
      "{\"latitude\":13.0169535,\"longitude\":77.5635853,\"timeStamp\":\"2018-03-01 11:33:57\",\"type\":\"pot\"}\n",
      "{\"latitude\":13.0170774,\"longitude\":77.5628625,\"timeStamp\":\"2018-03-01 11:34:15\",\"type\":\"pot\"}\n",
      "{\"latitude\":13.0184863,\"longitude\":77.5621296,\"timeStamp\":\"2018-03-01 11:35:56\",\"type\":\"pot\"}\n",
      "{\"latitude\":13.0189592,\"longitude\":77.5620181,\"timeStamp\":\"2018-03-01 11:36:16\",\"type\":\"pot\"}\n",
      "{\"latitude\":13.0189592,\"longitude\":77.5620181,\"timeStamp\":\"2018-03-01 11:36:19\",\"type\":\"pot\"}\n",
      "{\"latitude\":13.0187927,\"longitude\":77.5621868,\"timeStamp\":\"2018-03-01 11:36:22\",\"type\":\"pot\"}\n",
      "{\"latitude\":13.0189854,\"longitude\":77.5636295,\"timeStamp\":\"2018-03-01 11:37:08\",\"type\":\"pot\"}\n",
      "{\"latitude\":13.0197155,\"longitude\":77.5647209,\"timeStamp\":\"2018-03-01 11:38:10\",\"type\":\"pot\"}\n",
      "{\"latitude\":13.0197629,\"longitude\":77.5646093,\"timeStamp\":\"2018-03-01 11:38:14\",\"type\":\"pot\"}\n",
      "{\"latitude\":13.0198508,\"longitude\":77.5645468,\"timeStamp\":\"2018-03-01 11:38:18\",\"type\":\"pot\"}\n",
      "{\"latitude\":13.0199715,\"longitude\":77.5642218,\"timeStamp\":\"2018-03-01 11:38:32\",\"type\":\"pot\"}\n",
      "{\"latitude\":13.0201059,\"longitude\":77.5643094,\"timeStamp\":\"2018-03-01 11:38:49\",\"type\":\"pot\"}\n",
      "{\"latitude\":13.0204419,\"longitude\":77.5638337,\"timeStamp\":\"2018-03-01 11:38:55\",\"type\":\"pot\"}\n",
      "{\"latitude\":13.0208594,\"longitude\":77.5635139,\"timeStamp\":\"2018-03-01 11:39:02\",\"type\":\"pot\"}\n",
      "{\"latitude\":13.0228296,\"longitude\":77.5630266,\"timeStamp\":\"2018-03-01 11:39:43\",\"type\":\"pot\"}\n",
      "{\"latitude\":13.0249822,\"longitude\":77.5625728,\"timeStamp\":\"2018-03-01 11:40:25\",\"type\":\"pot\"}\n",
      "{\"latitude\":13.0261212,\"longitude\":77.5619426,\"timeStamp\":\"2018-03-01 11:40:51\",\"type\":\"pot\"}\n",
      "{\"latitude\":13.0287452,\"longitude\":77.5628885,\"timeStamp\":\"2018-03-01 11:41:45\",\"type\":\"pot\"}\n",
      "{\"latitude\":13.0287185,\"longitude\":77.5639517,\"timeStamp\":\"2018-03-01 11:42:01\",\"type\":\"pot\"}\n",
      "{\"latitude\":13.0287185,\"longitude\":77.5639517,\"timeStamp\":\"2018-03-01 11:42:03\",\"type\":\"pot\"}\n",
      "{\"latitude\":13.0285564,\"longitude\":77.565833,\"timeStamp\":\"2018-03-01 11:42:42\",\"type\":\"pot\"}\n",
      "{\"latitude\":13.0280161,\"longitude\":77.5674002,\"timeStamp\":\"2018-03-01 11:43:07\",\"type\":\"pot\"}\n",
      "{\"latitude\":13.0252688,\"longitude\":77.5688312,\"timeStamp\":\"2018-03-01 11:45:54\",\"type\":\"pot\"}\n",
      "{\"latitude\":13.0250472,\"longitude\":77.5681953,\"timeStamp\":\"2018-03-01 11:46:04\",\"type\":\"pot\"}\n",
      "{\"latitude\":13.0250472,\"longitude\":77.5681953,\"timeStamp\":\"2018-03-01 11:46:09\",\"type\":\"pot\"}\n",
      "{\"latitude\":13.0242741,\"longitude\":77.5667851,\"timeStamp\":\"2018-03-01 11:46:37\",\"type\":\"pot\"}\n",
      "{\"latitude\":13.0234586,\"longitude\":77.566793,\"timeStamp\":\"2018-03-01 11:46:51\",\"type\":\"pot\"}\n",
      "{\"latitude\":13.0230122,\"longitude\":77.5667335,\"timeStamp\":\"2018-03-01 11:46:57\",\"type\":\"pot\"}\n",
      "{\"latitude\":13.0227328,\"longitude\":77.5667573,\"timeStamp\":\"2018-03-01 11:47:06\",\"type\":\"pot\"}\n",
      "{\"latitude\":13.0185238,\"longitude\":77.5698145,\"timeStamp\":\"2018-03-01 11:51:14\",\"type\":\"pot\"}\n",
      "{\"latitude\":13.0181436,\"longitude\":77.5698483,\"timeStamp\":\"2018-03-01 11:51:21\",\"type\":\"pot\"}\n",
      "{\"latitude\":13.0181436,\"longitude\":77.5698483,\"timeStamp\":\"2018-03-01 11:51:24\",\"type\":\"pot\"}\n",
      "{\"latitude\":13.0182042,\"longitude\":77.5700338,\"timeStamp\":\"2018-03-01 11:51:28\",\"type\":\"pot\"}\n",
      "{\"latitude\":13.0178549,\"longitude\":77.5699526,\"timeStamp\":\"2018-03-01 11:51:30\",\"type\":\"pot\"}\n",
      "{\"latitude\":13.0178549,\"longitude\":77.5699526,\"timeStamp\":\"2018-03-01 11:51:34\",\"type\":\"pot\"}\n",
      "{\"latitude\":13.0176892,\"longitude\":77.569775,\"timeStamp\":\"2018-03-01 11:51:41\",\"type\":\"pot\"}\n",
      "{\"latitude\":13.0175377,\"longitude\":77.5696524,\"timeStamp\":\"2018-03-01 11:51:44\",\"type\":\"pot\"}\n",
      "{\"latitude\":13.0175377,\"longitude\":77.5696524,\"timeStamp\":\"2018-03-01 11:51:47\",\"type\":\"pot\"}\n",
      "{\"latitude\":13.0175377,\"longitude\":77.5696524,\"timeStamp\":\"2018-03-01 11:51:49\",\"type\":\"pot\"}\n",
      "{\"latitude\":13.0151279,\"longitude\":77.5718664,\"timeStamp\":\"2018-03-01 11:53:06\",\"type\":\"pot\"}\n",
      "{\"latitude\":13.0146513,\"longitude\":77.5695278,\"timeStamp\":\"2018-03-01 11:53:57\",\"type\":\"pot\"}\n",
      "{\"latitude\":13.0146513,\"longitude\":77.5695278,\"timeStamp\":\"2018-03-01 11:54:00\",\"type\":\"pot\"}\n",
      "{\"latitude\":13.0146272,\"longitude\":77.5690129,\"timeStamp\":\"2018-03-01 11:54:07\",\"type\":\"pot\"}\n",
      "{\"latitude\":13.0146117,\"longitude\":77.5682856,\"timeStamp\":\"2018-03-01 11:54:19\",\"type\":\"pot\"}\n",
      "{\"latitude\":13.0146117,\"longitude\":77.5682856,\"timeStamp\":\"2018-03-01 11:54:21\",\"type\":\"pot\"}\n",
      "{\"latitude\":13.0153462,\"longitude\":77.5677131,\"timeStamp\":\"2018-03-01 11:54:41\",\"type\":\"pot\"}\n",
      "{\"latitude\":13.0167517,\"longitude\":77.5652343,\"timeStamp\":\"2018-03-01 11:58:32\",\"type\":\"pot\"}\n",
      "{\"latitude\":13.0172384,\"longitude\":77.5648709,\"timeStamp\":\"2018-03-01 11:58:41\",\"type\":\"pot\"}\n",
      "{\"latitude\":13.0176736,\"longitude\":77.5648927,\"timeStamp\":\"2018-03-01 11:58:48\",\"type\":\"pot\"}\n",
      "{\"latitude\":13.0175254,\"longitude\":77.5649063,\"timeStamp\":\"2018-03-01 11:58:54\",\"type\":\"pot\"}\n",
      "{\"latitude\":13.0176958,\"longitude\":77.564726,\"timeStamp\":\"2018-03-01 11:59:06\",\"type\":\"pot\"}\n",
      "{\"latitude\":13.0176958,\"longitude\":77.564726,\"timeStamp\":\"2018-03-01 11:59:08\",\"type\":\"pot\"}\n",
      "{\"latitude\":13.01796,\"longitude\":77.5650096,\"timeStamp\":\"2018-03-01 11:59:20\",\"type\":\"pot\"}\n",
      "{\"latitude\":13.0176756,\"longitude\":77.5658156,\"timeStamp\":\"2018-03-01 11:59:37\",\"type\":\"pot\"}\n",
      "{\"latitude\":13.0223216,\"longitude\":77.5666504,\"timeStamp\":\"2018-03-01 12:01:33\",\"type\":\"pot\"}\n",
      "{\"latitude\":13.0246664,\"longitude\":77.5656116,\"timeStamp\":\"2018-03-01 12:02:55\",\"type\":\"pot\"}\n",
      "{\"latitude\":13.0244032,\"longitude\":77.5660514,\"timeStamp\":\"2018-03-01 12:04:42\",\"type\":\"pot\"}\n",
      "{\"latitude\":13.0234137,\"longitude\":77.5677205,\"timeStamp\":\"2018-03-01 12:05:48\",\"type\":\"pot\"}\n",
      "{\"latitude\":13.0234137,\"longitude\":77.5677205,\"timeStamp\":\"2018-03-01 12:05:52\",\"type\":\"pot\"}\n",
      "{\"latitude\":13.0163609,\"longitude\":77.5688895,\"timeStamp\":\"2018-03-01 12:10:11\",\"type\":\"pot\"}\n",
      "{\"latitude\":13.0162502,\"longitude\":77.5688793,\"timeStamp\":\"2018-03-01 12:10:18\",\"type\":\"pot\"}\n",
      "{\"latitude\":13.0158554,\"longitude\":77.5688678,\"timeStamp\":\"2018-03-01 12:10:22\",\"type\":\"pot\"}\n",
      "{\"latitude\":13.0143629,\"longitude\":77.570628,\"timeStamp\":\"2018-03-01 12:13:01\",\"type\":\"pot\"}\n",
      "{\"latitude\":13.0134793,\"longitude\":77.5685091,\"timeStamp\":\"2018-03-01 12:14:00\",\"type\":\"pot\"}\n",
      "{\"latitude\":13.0128868,\"longitude\":77.5688077,\"timeStamp\":\"2018-03-01 12:14:16\",\"type\":\"pot\"}\n",
      "{\"latitude\":13.0125561,\"longitude\":77.5690228,\"timeStamp\":\"2018-03-01 12:14:26\",\"type\":\"pot\"}\n",
      "{\"latitude\":13.0125561,\"longitude\":77.5690228,\"timeStamp\":\"2018-03-01 12:14:27\",\"type\":\"pot\"}\n",
      "{\"latitude\":13.0127638,\"longitude\":77.5689085,\"timeStamp\":\"2018-03-01 12:14:36\",\"type\":\"pot\"}\n"
     ]
    }
   ],
   "source": [
    "for uid in data.keys():\n",
    "    for fid in data[uid].keys():\n",
    "        print (data[uid][fid])"
   ]
  },
  {
   "cell_type": "code",
   "execution_count": null,
   "metadata": {},
   "outputs": [],
   "source": []
  },
  {
   "cell_type": "code",
   "execution_count": null,
   "metadata": {},
   "outputs": [],
   "source": []
  },
  {
   "cell_type": "code",
   "execution_count": 43,
   "metadata": {},
   "outputs": [],
   "source": [
    "latitudes = []\n",
    "longitudes = []\n",
    "for user_key in data.keys():\n",
    "     for fid in data[user_key]:\n",
    "            latitudes.append(json.loads(data[user_key][fid])['latitude'])\n",
    "            longitudes.append(json.loads(data[user_key][fid])['longitude'])"
   ]
  },
  {
   "cell_type": "code",
   "execution_count": 44,
   "metadata": {
    "scrolled": true
   },
   "outputs": [
    {
     "data": {
      "text/plain": [
       "[13.0167389,\n",
       " 13.0169535,\n",
       " 13.0170774,\n",
       " 13.0184863,\n",
       " 13.0189592,\n",
       " 13.0189592,\n",
       " 13.0187927,\n",
       " 13.0189854,\n",
       " 13.0197155,\n",
       " 13.0197629,\n",
       " 13.0198508,\n",
       " 13.0199715,\n",
       " 13.0201059,\n",
       " 13.0204419,\n",
       " 13.0208594,\n",
       " 13.0228296,\n",
       " 13.0249822,\n",
       " 13.0261212,\n",
       " 13.0287452,\n",
       " 13.0287185,\n",
       " 13.0287185,\n",
       " 13.0285564,\n",
       " 13.0280161,\n",
       " 13.0252688,\n",
       " 13.0250472,\n",
       " 13.0250472,\n",
       " 13.0242741,\n",
       " 13.0234586,\n",
       " 13.0230122,\n",
       " 13.0227328,\n",
       " 13.0185238,\n",
       " 13.0181436,\n",
       " 13.0181436,\n",
       " 13.0182042,\n",
       " 13.0178549,\n",
       " 13.0178549,\n",
       " 13.0176892,\n",
       " 13.0175377,\n",
       " 13.0175377,\n",
       " 13.0175377,\n",
       " 13.0151279,\n",
       " 13.0146513,\n",
       " 13.0146513,\n",
       " 13.0146272,\n",
       " 13.0146117,\n",
       " 13.0146117,\n",
       " 13.0153462,\n",
       " 13.0167517,\n",
       " 13.0172384,\n",
       " 13.0176736,\n",
       " 13.0175254,\n",
       " 13.0176958,\n",
       " 13.0176958,\n",
       " 13.01796,\n",
       " 13.0176756,\n",
       " 13.0223216,\n",
       " 13.0246664,\n",
       " 13.0244032,\n",
       " 13.0234137,\n",
       " 13.0234137,\n",
       " 13.0163609,\n",
       " 13.0162502,\n",
       " 13.0158554,\n",
       " 13.0143629,\n",
       " 13.0134793,\n",
       " 13.0128868,\n",
       " 13.0125561,\n",
       " 13.0125561,\n",
       " 13.0127638]"
      ]
     },
     "execution_count": 44,
     "metadata": {},
     "output_type": "execute_result"
    }
   ],
   "source": [
    "latitudes"
   ]
  },
  {
   "cell_type": "code",
   "execution_count": 45,
   "metadata": {},
   "outputs": [
    {
     "data": {
      "text/plain": [
       "69"
      ]
     },
     "execution_count": 45,
     "metadata": {},
     "output_type": "execute_result"
    }
   ],
   "source": [
    "len(latitudes)"
   ]
  },
  {
   "cell_type": "code",
   "execution_count": 46,
   "metadata": {},
   "outputs": [
    {
     "data": {
      "text/plain": [
       "69"
      ]
     },
     "execution_count": 46,
     "metadata": {},
     "output_type": "execute_result"
    }
   ],
   "source": [
    "len(longitudes)"
   ]
  },
  {
   "cell_type": "code",
   "execution_count": 47,
   "metadata": {},
   "outputs": [
    {
     "data": {
      "text/plain": [
       "[77.5639061,\n",
       " 77.5635853,\n",
       " 77.5628625,\n",
       " 77.5621296,\n",
       " 77.5620181,\n",
       " 77.5620181,\n",
       " 77.5621868,\n",
       " 77.5636295,\n",
       " 77.5647209,\n",
       " 77.5646093,\n",
       " 77.5645468,\n",
       " 77.5642218,\n",
       " 77.5643094,\n",
       " 77.5638337,\n",
       " 77.5635139,\n",
       " 77.5630266,\n",
       " 77.5625728,\n",
       " 77.5619426,\n",
       " 77.5628885,\n",
       " 77.5639517,\n",
       " 77.5639517,\n",
       " 77.565833,\n",
       " 77.5674002,\n",
       " 77.5688312,\n",
       " 77.5681953,\n",
       " 77.5681953,\n",
       " 77.5667851,\n",
       " 77.566793,\n",
       " 77.5667335,\n",
       " 77.5667573,\n",
       " 77.5698145,\n",
       " 77.5698483,\n",
       " 77.5698483,\n",
       " 77.5700338,\n",
       " 77.5699526,\n",
       " 77.5699526,\n",
       " 77.569775,\n",
       " 77.5696524,\n",
       " 77.5696524,\n",
       " 77.5696524,\n",
       " 77.5718664,\n",
       " 77.5695278,\n",
       " 77.5695278,\n",
       " 77.5690129,\n",
       " 77.5682856,\n",
       " 77.5682856,\n",
       " 77.5677131,\n",
       " 77.5652343,\n",
       " 77.5648709,\n",
       " 77.5648927,\n",
       " 77.5649063,\n",
       " 77.564726,\n",
       " 77.564726,\n",
       " 77.5650096,\n",
       " 77.5658156,\n",
       " 77.5666504,\n",
       " 77.5656116,\n",
       " 77.5660514,\n",
       " 77.5677205,\n",
       " 77.5677205,\n",
       " 77.5688895,\n",
       " 77.5688793,\n",
       " 77.5688678,\n",
       " 77.570628,\n",
       " 77.5685091,\n",
       " 77.5688077,\n",
       " 77.5690228,\n",
       " 77.5690228,\n",
       " 77.5689085]"
      ]
     },
     "execution_count": 47,
     "metadata": {},
     "output_type": "execute_result"
    }
   ],
   "source": [
    "longitudes"
   ]
  },
  {
   "cell_type": "code",
   "execution_count": 48,
   "metadata": {},
   "outputs": [],
   "source": [
    "import gmplot"
   ]
  },
  {
   "cell_type": "code",
   "execution_count": 49,
   "metadata": {},
   "outputs": [],
   "source": [
    "gmap = gmplot.GoogleMapPlotter(12.972442, 77.580643, 12)"
   ]
  },
  {
   "cell_type": "code",
   "execution_count": 50,
   "metadata": {},
   "outputs": [],
   "source": [
    "gmap.scatter(latitudes, longitudes, 'k', marker=True)"
   ]
  },
  {
   "cell_type": "code",
   "execution_count": 51,
   "metadata": {},
   "outputs": [],
   "source": [
    "gmap.draw(\"mygscattermap.html\")"
   ]
  },
  {
   "cell_type": "code",
   "execution_count": null,
   "metadata": {},
   "outputs": [],
   "source": []
  },
  {
   "cell_type": "code",
   "execution_count": null,
   "metadata": {},
   "outputs": [],
   "source": []
  }
 ],
 "metadata": {
  "kernelspec": {
   "display_name": "Python 3",
   "language": "python",
   "name": "python3"
  },
  "language_info": {
   "codemirror_mode": {
    "name": "ipython",
    "version": 3
   },
   "file_extension": ".py",
   "mimetype": "text/x-python",
   "name": "python",
   "nbconvert_exporter": "python",
   "pygments_lexer": "ipython3",
   "version": "3.7.6"
  }
 },
 "nbformat": 4,
 "nbformat_minor": 4
}
